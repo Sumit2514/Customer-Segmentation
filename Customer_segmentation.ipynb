{
 "cells": [
  {
   "cell_type": "code",
   "execution_count": 1,
   "metadata": {},
   "outputs": [],
   "source": [
    "import pandas as pd\n",
    "import numpy as np\n",
    "from sklearn.cluster import KMeans\n",
    "from sklearn.preprocessing import LabelEncoder\n",
    "from sklearn.preprocessing import MinMaxScaler\n",
    "import seaborn as sns\n",
    "import matplotlib.pyplot as plt\n",
    "from sklearn.model_selection import train_test_split\n",
    "from sklearn.datasets import load_iris\n",
    "from sklearn.ensemble import RandomForestRegressor\n",
    "from sklearn.multioutput import MultiOutputRegressor\n",
    "from sklearn.model_selection import train_test_split\n",
    "from sklearn.ensemble import RandomForestClassifier\n",
    "from sklearn.multioutput import MultiOutputClassifier\n",
    "from sklearn.preprocessing import Imputer\n"
   ]
  },
  {
   "cell_type": "code",
   "execution_count": 2,
   "metadata": {},
   "outputs": [],
   "source": [
    "## loading development data set into python "
   ]
  },
  {
   "cell_type": "code",
   "execution_count": 3,
   "metadata": {},
   "outputs": [],
   "source": [
    "df=pd.read_csv(\"C:\\\\Users\\\\Sumit Ranjan\\\\Desktop\\\\pgdm\\\\semester 5\\\\development_dataset.csv\")"
   ]
  },
  {
   "cell_type": "code",
   "execution_count": 4,
   "metadata": {},
   "outputs": [],
   "source": [
    "## Giving name to columns according to data dictionary provided by AMEX"
   ]
  },
  {
   "cell_type": "code",
   "execution_count": 5,
   "metadata": {},
   "outputs": [],
   "source": [
    "\n",
    "new_data = df.rename(columns = {\"VAR1\": \"ID\",\"VAR2\":\"FICO\",\"VAR3\":\"Business Revenue\",\"VAR4\":\"TSR\",\"VAR5\":\"Last 6M Avg Util\",\"VAR6\":\"Income\",\"VAR7\":\"Last 6M Avg Remit\",\"VAR8\":\"Last 6M Avg Bal\",\"VAR9\":\"Internal Revolve\",\"VAR10\":\"Lending AR% in last 6M\",\"VAR11\":\"ExternalBalance\", \"VAR12\":\"Months in Business\" ,\"VAR13\":\"preferred_spend_line\",\"VAR14\":\"total_cards\",\"VAR15\":\"preferred_bal_line\", \"VAR16\":\" preavgremit1_3_all\",\"VAR17\":\"External_rev_rate\", \"VAR18\":\"Supplementary Cards\",\"VAR19\":\"isChargeCust\", \"VAR20\": \"CMV\",\"VAR21\":\"Assigned\"\n",
    "                                  }) \n"
   ]
  },
  {
   "cell_type": "code",
   "execution_count": 6,
   "metadata": {},
   "outputs": [
    {
     "data": {
      "text/plain": [
       "Index(['ID', 'FICO', 'Business Revenue', 'TSR', 'Last 6M Avg Util', 'Income',\n",
       "       'Last 6M Avg Remit', 'Last 6M Avg Bal', 'Internal Revolve',\n",
       "       'Lending AR% in last 6M', 'ExternalBalance', 'Months in Business',\n",
       "       'preferred_spend_line', 'total_cards', 'preferred_bal_line',\n",
       "       ' preavgremit1_3_all', 'External_rev_rate', 'Supplementary Cards',\n",
       "       'isChargeCust', 'CMV', 'Assigned'],\n",
       "      dtype='object')"
      ]
     },
     "execution_count": 6,
     "metadata": {},
     "output_type": "execute_result"
    }
   ],
   "source": [
    "new_data.columns"
   ]
  },
  {
   "cell_type": "code",
   "execution_count": 7,
   "metadata": {},
   "outputs": [],
   "source": [
    "## converting variable total_card to float data type"
   ]
  },
  {
   "cell_type": "code",
   "execution_count": 8,
   "metadata": {},
   "outputs": [],
   "source": [
    "new_data.total_cards = new_data.total_cards.replace(to_replace='.', value = 0)"
   ]
  },
  {
   "cell_type": "code",
   "execution_count": 9,
   "metadata": {},
   "outputs": [],
   "source": [
    "new_data['total_cards'] = new_data['total_cards'].astype('float')"
   ]
  },
  {
   "cell_type": "code",
   "execution_count": 10,
   "metadata": {},
   "outputs": [],
   "source": [
    "## selecting data of low segment from Assignned variable "
   ]
  },
  {
   "cell_type": "code",
   "execution_count": 11,
   "metadata": {},
   "outputs": [],
   "source": [
    "new_data_2 = new_data[new_data['Assigned']=='Low']"
   ]
  },
  {
   "cell_type": "code",
   "execution_count": 12,
   "metadata": {
    "scrolled": true
   },
   "outputs": [
    {
     "data": {
      "text/html": [
       "<div>\n",
       "<style scoped>\n",
       "    .dataframe tbody tr th:only-of-type {\n",
       "        vertical-align: middle;\n",
       "    }\n",
       "\n",
       "    .dataframe tbody tr th {\n",
       "        vertical-align: top;\n",
       "    }\n",
       "\n",
       "    .dataframe thead th {\n",
       "        text-align: right;\n",
       "    }\n",
       "</style>\n",
       "<table border=\"1\" class=\"dataframe\">\n",
       "  <thead>\n",
       "    <tr style=\"text-align: right;\">\n",
       "      <th></th>\n",
       "      <th>ID</th>\n",
       "      <th>FICO</th>\n",
       "      <th>Business Revenue</th>\n",
       "      <th>TSR</th>\n",
       "      <th>Last 6M Avg Util</th>\n",
       "      <th>Income</th>\n",
       "      <th>Last 6M Avg Remit</th>\n",
       "      <th>Last 6M Avg Bal</th>\n",
       "      <th>Internal Revolve</th>\n",
       "      <th>Lending AR% in last 6M</th>\n",
       "      <th>...</th>\n",
       "      <th>Months in Business</th>\n",
       "      <th>preferred_spend_line</th>\n",
       "      <th>total_cards</th>\n",
       "      <th>preferred_bal_line</th>\n",
       "      <th>preavgremit1_3_all</th>\n",
       "      <th>External_rev_rate</th>\n",
       "      <th>Supplementary Cards</th>\n",
       "      <th>isChargeCust</th>\n",
       "      <th>CMV</th>\n",
       "      <th>Assigned</th>\n",
       "    </tr>\n",
       "  </thead>\n",
       "  <tbody>\n",
       "    <tr>\n",
       "      <th>0</th>\n",
       "      <td>1</td>\n",
       "      <td>828.235294</td>\n",
       "      <td>0.138889</td>\n",
       "      <td>321.428571</td>\n",
       "      <td>625.911006</td>\n",
       "      <td>1.818182</td>\n",
       "      <td>1.081550</td>\n",
       "      <td>198.113469</td>\n",
       "      <td>NaN</td>\n",
       "      <td>58.632548</td>\n",
       "      <td>...</td>\n",
       "      <td>100.083403</td>\n",
       "      <td>1.000000</td>\n",
       "      <td>1.0</td>\n",
       "      <td>1.0</td>\n",
       "      <td>1.540594</td>\n",
       "      <td>NaN</td>\n",
       "      <td>1</td>\n",
       "      <td>0</td>\n",
       "      <td>100.104991</td>\n",
       "      <td>Low</td>\n",
       "    </tr>\n",
       "    <tr>\n",
       "      <th>3</th>\n",
       "      <td>4</td>\n",
       "      <td>892.941177</td>\n",
       "      <td>NaN</td>\n",
       "      <td>NaN</td>\n",
       "      <td>638.076431</td>\n",
       "      <td>9.090909</td>\n",
       "      <td>0.820218</td>\n",
       "      <td>197.355744</td>\n",
       "      <td>4.363431</td>\n",
       "      <td>58.632548</td>\n",
       "      <td>...</td>\n",
       "      <td>NaN</td>\n",
       "      <td>NaN</td>\n",
       "      <td>1.0</td>\n",
       "      <td>NaN</td>\n",
       "      <td>1.145729</td>\n",
       "      <td>NaN</td>\n",
       "      <td>1</td>\n",
       "      <td>0</td>\n",
       "      <td>140.862306</td>\n",
       "      <td>Low</td>\n",
       "    </tr>\n",
       "    <tr>\n",
       "      <th>5</th>\n",
       "      <td>6</td>\n",
       "      <td>794.117647</td>\n",
       "      <td>0.117700</td>\n",
       "      <td>178.571429</td>\n",
       "      <td>624.065797</td>\n",
       "      <td>12.727273</td>\n",
       "      <td>0.665458</td>\n",
       "      <td>197.251700</td>\n",
       "      <td>107.066619</td>\n",
       "      <td>58.632548</td>\n",
       "      <td>...</td>\n",
       "      <td>NaN</td>\n",
       "      <td>2.000000</td>\n",
       "      <td>1.0</td>\n",
       "      <td>2.0</td>\n",
       "      <td>1.037051</td>\n",
       "      <td>34.83</td>\n",
       "      <td>0</td>\n",
       "      <td>0</td>\n",
       "      <td>379.736661</td>\n",
       "      <td>Low</td>\n",
       "    </tr>\n",
       "    <tr>\n",
       "      <th>6</th>\n",
       "      <td>7</td>\n",
       "      <td>987.058823</td>\n",
       "      <td>NaN</td>\n",
       "      <td>35.714286</td>\n",
       "      <td>611.574748</td>\n",
       "      <td>NaN</td>\n",
       "      <td>0.970320</td>\n",
       "      <td>197.831747</td>\n",
       "      <td>22.086661</td>\n",
       "      <td>NaN</td>\n",
       "      <td>...</td>\n",
       "      <td>NaN</td>\n",
       "      <td>NaN</td>\n",
       "      <td>1.0</td>\n",
       "      <td>6.0</td>\n",
       "      <td>1.161463</td>\n",
       "      <td>1000.00</td>\n",
       "      <td>0</td>\n",
       "      <td>1</td>\n",
       "      <td>146.382100</td>\n",
       "      <td>Low</td>\n",
       "    </tr>\n",
       "    <tr>\n",
       "      <th>8</th>\n",
       "      <td>9</td>\n",
       "      <td>947.058823</td>\n",
       "      <td>NaN</td>\n",
       "      <td>821.428571</td>\n",
       "      <td>648.330121</td>\n",
       "      <td>23.636364</td>\n",
       "      <td>0.782048</td>\n",
       "      <td>200.301604</td>\n",
       "      <td>NaN</td>\n",
       "      <td>58.632548</td>\n",
       "      <td>...</td>\n",
       "      <td>20.016681</td>\n",
       "      <td>9.733333</td>\n",
       "      <td>1.0</td>\n",
       "      <td>11.0</td>\n",
       "      <td>1.141355</td>\n",
       "      <td>1000.00</td>\n",
       "      <td>1</td>\n",
       "      <td>0</td>\n",
       "      <td>96.337349</td>\n",
       "      <td>Low</td>\n",
       "    </tr>\n",
       "  </tbody>\n",
       "</table>\n",
       "<p>5 rows × 21 columns</p>\n",
       "</div>"
      ],
      "text/plain": [
       "   ID        FICO  Business Revenue         TSR  Last 6M Avg Util     Income  \\\n",
       "0   1  828.235294          0.138889  321.428571        625.911006   1.818182   \n",
       "3   4  892.941177               NaN         NaN        638.076431   9.090909   \n",
       "5   6  794.117647          0.117700  178.571429        624.065797  12.727273   \n",
       "6   7  987.058823               NaN   35.714286        611.574748        NaN   \n",
       "8   9  947.058823               NaN  821.428571        648.330121  23.636364   \n",
       "\n",
       "   Last 6M Avg Remit  Last 6M Avg Bal  Internal Revolve  \\\n",
       "0           1.081550       198.113469               NaN   \n",
       "3           0.820218       197.355744          4.363431   \n",
       "5           0.665458       197.251700        107.066619   \n",
       "6           0.970320       197.831747         22.086661   \n",
       "8           0.782048       200.301604               NaN   \n",
       "\n",
       "   Lending AR% in last 6M    ...     Months in Business  preferred_spend_line  \\\n",
       "0               58.632548    ...             100.083403              1.000000   \n",
       "3               58.632548    ...                    NaN                   NaN   \n",
       "5               58.632548    ...                    NaN              2.000000   \n",
       "6                     NaN    ...                    NaN                   NaN   \n",
       "8               58.632548    ...              20.016681              9.733333   \n",
       "\n",
       "   total_cards  preferred_bal_line   preavgremit1_3_all  External_rev_rate  \\\n",
       "0          1.0                 1.0             1.540594                NaN   \n",
       "3          1.0                 NaN             1.145729                NaN   \n",
       "5          1.0                 2.0             1.037051              34.83   \n",
       "6          1.0                 6.0             1.161463            1000.00   \n",
       "8          1.0                11.0             1.141355            1000.00   \n",
       "\n",
       "   Supplementary Cards  isChargeCust         CMV  Assigned  \n",
       "0                    1             0  100.104991       Low  \n",
       "3                    1             0  140.862306       Low  \n",
       "5                    0             0  379.736661       Low  \n",
       "6                    0             1  146.382100       Low  \n",
       "8                    1             0   96.337349       Low  \n",
       "\n",
       "[5 rows x 21 columns]"
      ]
     },
     "execution_count": 12,
     "metadata": {},
     "output_type": "execute_result"
    }
   ],
   "source": [
    "new_data_2.head()"
   ]
  },
  {
   "cell_type": "code",
   "execution_count": 13,
   "metadata": {},
   "outputs": [],
   "source": [
    "## selecting data of Medium segment from Assignned variable "
   ]
  },
  {
   "cell_type": "code",
   "execution_count": 14,
   "metadata": {},
   "outputs": [],
   "source": [
    "new_data_3 = new_data[new_data['Assigned']=='Medium']"
   ]
  },
  {
   "cell_type": "code",
   "execution_count": 15,
   "metadata": {},
   "outputs": [],
   "source": [
    "## selecting data of High segment from Assignned variable "
   ]
  },
  {
   "cell_type": "code",
   "execution_count": 16,
   "metadata": {},
   "outputs": [],
   "source": [
    "new_data_4 = new_data[new_data['Assigned']=='High']"
   ]
  },
  {
   "cell_type": "code",
   "execution_count": 17,
   "metadata": {},
   "outputs": [],
   "source": [
    "## Replacing missing value in each segment with \"most frequent\" in each segment separately"
   ]
  },
  {
   "cell_type": "code",
   "execution_count": 18,
   "metadata": {
    "scrolled": false
   },
   "outputs": [
    {
     "name": "stderr",
     "output_type": "stream",
     "text": [
      "C:\\Users\\Sumit Ranjan\\Anaconda3\\lib\\site-packages\\sklearn\\utils\\deprecation.py:58: DeprecationWarning: Class Imputer is deprecated; Imputer was deprecated in version 0.20 and will be removed in 0.22. Import impute.SimpleImputer from sklearn instead.\n",
      "  warnings.warn(msg, category=DeprecationWarning)\n"
     ]
    }
   ],
   "source": [
    "imputer = Imputer(missing_values=\"NaN\", strategy=\"most_frequent\", axis = 0)"
   ]
  },
  {
   "cell_type": "code",
   "execution_count": 19,
   "metadata": {},
   "outputs": [],
   "source": [
    "imputer_1 = imputer.fit(new_data_2.drop('Assigned',axis=1))"
   ]
  },
  {
   "cell_type": "code",
   "execution_count": 20,
   "metadata": {},
   "outputs": [],
   "source": [
    "new_data_2=new_data_2.drop('Assigned',axis=1)"
   ]
  },
  {
   "cell_type": "code",
   "execution_count": 21,
   "metadata": {},
   "outputs": [],
   "source": [
    "new_data_2 = imputer_1.transform(new_data_2)"
   ]
  },
  {
   "cell_type": "code",
   "execution_count": 22,
   "metadata": {},
   "outputs": [],
   "source": [
    "imputer_2 = imputer.fit(new_data_3.drop('Assigned',axis=1))"
   ]
  },
  {
   "cell_type": "code",
   "execution_count": 23,
   "metadata": {},
   "outputs": [],
   "source": [
    "new_data_3=new_data_3.drop('Assigned',axis=1)"
   ]
  },
  {
   "cell_type": "code",
   "execution_count": 24,
   "metadata": {},
   "outputs": [],
   "source": [
    "new_data_3 = imputer_2.transform(new_data_3)"
   ]
  },
  {
   "cell_type": "code",
   "execution_count": 25,
   "metadata": {},
   "outputs": [],
   "source": [
    "imputer_3 = imputer.fit(new_data_4.drop('Assigned',axis=1))"
   ]
  },
  {
   "cell_type": "code",
   "execution_count": 26,
   "metadata": {},
   "outputs": [],
   "source": [
    "new_data_4=new_data_4.drop('Assigned',axis=1)"
   ]
  },
  {
   "cell_type": "code",
   "execution_count": 27,
   "metadata": {},
   "outputs": [],
   "source": [
    "new_data_4 = imputer_3.transform(new_data_4)"
   ]
  },
  {
   "cell_type": "code",
   "execution_count": 28,
   "metadata": {},
   "outputs": [],
   "source": [
    "columns=['ID', 'FICO', 'Business Revenue', 'TSR', 'Last 6M Avg Util', 'Income',\n",
    "       'Last 6M Avg Remit', 'Last 6M Avg Bal', 'Internal Revolve',\n",
    "       'Lending AR% in last 6M', 'ExternalBalance', 'Months in Business',\n",
    "       'preferred_spend_line', 'total_cards', 'preferred_bal_line',\n",
    "       ' preavgremit1_3_all', 'External_rev_rate', 'Supplementary Cards',\n",
    "       'isChargeCust', 'CMV']"
   ]
  },
  {
   "cell_type": "code",
   "execution_count": 29,
   "metadata": {},
   "outputs": [],
   "source": [
    "new_data_2=pd.DataFrame(new_data_2, columns=columns)"
   ]
  },
  {
   "cell_type": "code",
   "execution_count": 30,
   "metadata": {},
   "outputs": [],
   "source": [
    "new_data_2['Assigned']='Low'"
   ]
  },
  {
   "cell_type": "code",
   "execution_count": 31,
   "metadata": {},
   "outputs": [
    {
     "data": {
      "text/html": [
       "<div>\n",
       "<style scoped>\n",
       "    .dataframe tbody tr th:only-of-type {\n",
       "        vertical-align: middle;\n",
       "    }\n",
       "\n",
       "    .dataframe tbody tr th {\n",
       "        vertical-align: top;\n",
       "    }\n",
       "\n",
       "    .dataframe thead th {\n",
       "        text-align: right;\n",
       "    }\n",
       "</style>\n",
       "<table border=\"1\" class=\"dataframe\">\n",
       "  <thead>\n",
       "    <tr style=\"text-align: right;\">\n",
       "      <th></th>\n",
       "      <th>ID</th>\n",
       "      <th>FICO</th>\n",
       "      <th>Business Revenue</th>\n",
       "      <th>TSR</th>\n",
       "      <th>Last 6M Avg Util</th>\n",
       "      <th>Income</th>\n",
       "      <th>Last 6M Avg Remit</th>\n",
       "      <th>Last 6M Avg Bal</th>\n",
       "      <th>Internal Revolve</th>\n",
       "      <th>Lending AR% in last 6M</th>\n",
       "      <th>...</th>\n",
       "      <th>Months in Business</th>\n",
       "      <th>preferred_spend_line</th>\n",
       "      <th>total_cards</th>\n",
       "      <th>preferred_bal_line</th>\n",
       "      <th>preavgremit1_3_all</th>\n",
       "      <th>External_rev_rate</th>\n",
       "      <th>Supplementary Cards</th>\n",
       "      <th>isChargeCust</th>\n",
       "      <th>CMV</th>\n",
       "      <th>Assigned</th>\n",
       "    </tr>\n",
       "  </thead>\n",
       "  <tbody>\n",
       "    <tr>\n",
       "      <th>0</th>\n",
       "      <td>1.0</td>\n",
       "      <td>828.235294</td>\n",
       "      <td>0.138889</td>\n",
       "      <td>321.428571</td>\n",
       "      <td>625.911006</td>\n",
       "      <td>1.818182</td>\n",
       "      <td>1.081550</td>\n",
       "      <td>198.113469</td>\n",
       "      <td>22.086661</td>\n",
       "      <td>58.632548</td>\n",
       "      <td>...</td>\n",
       "      <td>100.083403</td>\n",
       "      <td>1.000000</td>\n",
       "      <td>1.0</td>\n",
       "      <td>1.000000</td>\n",
       "      <td>1.540594</td>\n",
       "      <td>1000.00</td>\n",
       "      <td>1.0</td>\n",
       "      <td>0.0</td>\n",
       "      <td>100.104991</td>\n",
       "      <td>Low</td>\n",
       "    </tr>\n",
       "    <tr>\n",
       "      <th>1</th>\n",
       "      <td>4.0</td>\n",
       "      <td>892.941177</td>\n",
       "      <td>0.027778</td>\n",
       "      <td>35.714286</td>\n",
       "      <td>638.076431</td>\n",
       "      <td>9.090909</td>\n",
       "      <td>0.820218</td>\n",
       "      <td>197.355744</td>\n",
       "      <td>4.363431</td>\n",
       "      <td>58.632548</td>\n",
       "      <td>...</td>\n",
       "      <td>40.033361</td>\n",
       "      <td>6.666667</td>\n",
       "      <td>1.0</td>\n",
       "      <td>6.666667</td>\n",
       "      <td>1.145729</td>\n",
       "      <td>1000.00</td>\n",
       "      <td>1.0</td>\n",
       "      <td>0.0</td>\n",
       "      <td>140.862306</td>\n",
       "      <td>Low</td>\n",
       "    </tr>\n",
       "    <tr>\n",
       "      <th>2</th>\n",
       "      <td>6.0</td>\n",
       "      <td>794.117647</td>\n",
       "      <td>0.117700</td>\n",
       "      <td>178.571429</td>\n",
       "      <td>624.065797</td>\n",
       "      <td>12.727273</td>\n",
       "      <td>0.665458</td>\n",
       "      <td>197.251700</td>\n",
       "      <td>107.066619</td>\n",
       "      <td>58.632548</td>\n",
       "      <td>...</td>\n",
       "      <td>40.033361</td>\n",
       "      <td>2.000000</td>\n",
       "      <td>1.0</td>\n",
       "      <td>2.000000</td>\n",
       "      <td>1.037051</td>\n",
       "      <td>34.83</td>\n",
       "      <td>0.0</td>\n",
       "      <td>0.0</td>\n",
       "      <td>379.736661</td>\n",
       "      <td>Low</td>\n",
       "    </tr>\n",
       "    <tr>\n",
       "      <th>3</th>\n",
       "      <td>7.0</td>\n",
       "      <td>987.058823</td>\n",
       "      <td>0.027778</td>\n",
       "      <td>35.714286</td>\n",
       "      <td>611.574748</td>\n",
       "      <td>11.363636</td>\n",
       "      <td>0.970320</td>\n",
       "      <td>197.831747</td>\n",
       "      <td>22.086661</td>\n",
       "      <td>58.632548</td>\n",
       "      <td>...</td>\n",
       "      <td>40.033361</td>\n",
       "      <td>6.666667</td>\n",
       "      <td>1.0</td>\n",
       "      <td>6.000000</td>\n",
       "      <td>1.161463</td>\n",
       "      <td>1000.00</td>\n",
       "      <td>0.0</td>\n",
       "      <td>1.0</td>\n",
       "      <td>146.382100</td>\n",
       "      <td>Low</td>\n",
       "    </tr>\n",
       "    <tr>\n",
       "      <th>4</th>\n",
       "      <td>9.0</td>\n",
       "      <td>947.058823</td>\n",
       "      <td>0.027778</td>\n",
       "      <td>821.428571</td>\n",
       "      <td>648.330121</td>\n",
       "      <td>23.636364</td>\n",
       "      <td>0.782048</td>\n",
       "      <td>200.301604</td>\n",
       "      <td>22.086661</td>\n",
       "      <td>58.632548</td>\n",
       "      <td>...</td>\n",
       "      <td>20.016681</td>\n",
       "      <td>9.733333</td>\n",
       "      <td>1.0</td>\n",
       "      <td>11.000000</td>\n",
       "      <td>1.141355</td>\n",
       "      <td>1000.00</td>\n",
       "      <td>1.0</td>\n",
       "      <td>0.0</td>\n",
       "      <td>96.337349</td>\n",
       "      <td>Low</td>\n",
       "    </tr>\n",
       "  </tbody>\n",
       "</table>\n",
       "<p>5 rows × 21 columns</p>\n",
       "</div>"
      ],
      "text/plain": [
       "    ID        FICO  Business Revenue         TSR  Last 6M Avg Util     Income  \\\n",
       "0  1.0  828.235294          0.138889  321.428571        625.911006   1.818182   \n",
       "1  4.0  892.941177          0.027778   35.714286        638.076431   9.090909   \n",
       "2  6.0  794.117647          0.117700  178.571429        624.065797  12.727273   \n",
       "3  7.0  987.058823          0.027778   35.714286        611.574748  11.363636   \n",
       "4  9.0  947.058823          0.027778  821.428571        648.330121  23.636364   \n",
       "\n",
       "   Last 6M Avg Remit  Last 6M Avg Bal  Internal Revolve  \\\n",
       "0           1.081550       198.113469         22.086661   \n",
       "1           0.820218       197.355744          4.363431   \n",
       "2           0.665458       197.251700        107.066619   \n",
       "3           0.970320       197.831747         22.086661   \n",
       "4           0.782048       200.301604         22.086661   \n",
       "\n",
       "   Lending AR% in last 6M    ...     Months in Business  preferred_spend_line  \\\n",
       "0               58.632548    ...             100.083403              1.000000   \n",
       "1               58.632548    ...              40.033361              6.666667   \n",
       "2               58.632548    ...              40.033361              2.000000   \n",
       "3               58.632548    ...              40.033361              6.666667   \n",
       "4               58.632548    ...              20.016681              9.733333   \n",
       "\n",
       "   total_cards  preferred_bal_line   preavgremit1_3_all  External_rev_rate  \\\n",
       "0          1.0            1.000000             1.540594            1000.00   \n",
       "1          1.0            6.666667             1.145729            1000.00   \n",
       "2          1.0            2.000000             1.037051              34.83   \n",
       "3          1.0            6.000000             1.161463            1000.00   \n",
       "4          1.0           11.000000             1.141355            1000.00   \n",
       "\n",
       "   Supplementary Cards  isChargeCust         CMV  Assigned  \n",
       "0                  1.0           0.0  100.104991       Low  \n",
       "1                  1.0           0.0  140.862306       Low  \n",
       "2                  0.0           0.0  379.736661       Low  \n",
       "3                  0.0           1.0  146.382100       Low  \n",
       "4                  1.0           0.0   96.337349       Low  \n",
       "\n",
       "[5 rows x 21 columns]"
      ]
     },
     "execution_count": 31,
     "metadata": {},
     "output_type": "execute_result"
    }
   ],
   "source": [
    "new_data_2.head()"
   ]
  },
  {
   "cell_type": "code",
   "execution_count": 32,
   "metadata": {},
   "outputs": [],
   "source": [
    "new_data_3=pd.DataFrame(new_data_3,columns=columns)"
   ]
  },
  {
   "cell_type": "code",
   "execution_count": 33,
   "metadata": {},
   "outputs": [],
   "source": [
    "new_data_3['Assigned']='Medium'"
   ]
  },
  {
   "cell_type": "code",
   "execution_count": 34,
   "metadata": {},
   "outputs": [],
   "source": [
    "new_data_4=pd.DataFrame(new_data_4,columns=columns)"
   ]
  },
  {
   "cell_type": "code",
   "execution_count": 35,
   "metadata": {},
   "outputs": [],
   "source": [
    "new_data_4['Assigned']='High'"
   ]
  },
  {
   "cell_type": "code",
   "execution_count": 36,
   "metadata": {},
   "outputs": [],
   "source": [
    "a=new_data_2.append(new_data_3, ignore_index = True) "
   ]
  },
  {
   "cell_type": "code",
   "execution_count": 37,
   "metadata": {},
   "outputs": [],
   "source": [
    "b=a.append(new_data_4, ignore_index = True)"
   ]
  },
  {
   "cell_type": "code",
   "execution_count": 38,
   "metadata": {},
   "outputs": [],
   "source": [
    "## data with no missing value store in b "
   ]
  },
  {
   "cell_type": "code",
   "execution_count": 39,
   "metadata": {},
   "outputs": [
    {
     "data": {
      "text/plain": [
       "(34000, 21)"
      ]
     },
     "execution_count": 39,
     "metadata": {},
     "output_type": "execute_result"
    }
   ],
   "source": [
    "b.shape"
   ]
  },
  {
   "cell_type": "code",
   "execution_count": 40,
   "metadata": {},
   "outputs": [
    {
     "name": "stdout",
     "output_type": "stream",
     "text": [
      "ID\n",
      "FICO\n",
      "Business Revenue\n",
      "TSR\n",
      "Last 6M Avg Util\n",
      "Income\n",
      "Last 6M Avg Remit\n",
      "Last 6M Avg Bal\n",
      "Internal Revolve\n",
      "Lending AR% in last 6M\n",
      "ExternalBalance\n",
      "Months in Business\n",
      "preferred_spend_line\n",
      "total_cards\n",
      "preferred_bal_line\n",
      " preavgremit1_3_all\n",
      "External_rev_rate\n",
      "Supplementary Cards\n",
      "isChargeCust\n",
      "CMV\n",
      "Assigned\n"
     ]
    }
   ],
   "source": [
    "for col in b.columns: \n",
    "    print(col) "
   ]
  },
  {
   "cell_type": "code",
   "execution_count": 41,
   "metadata": {},
   "outputs": [
    {
     "data": {
      "text/html": [
       "<div>\n",
       "<style scoped>\n",
       "    .dataframe tbody tr th:only-of-type {\n",
       "        vertical-align: middle;\n",
       "    }\n",
       "\n",
       "    .dataframe tbody tr th {\n",
       "        vertical-align: top;\n",
       "    }\n",
       "\n",
       "    .dataframe thead th {\n",
       "        text-align: right;\n",
       "    }\n",
       "</style>\n",
       "<table border=\"1\" class=\"dataframe\">\n",
       "  <thead>\n",
       "    <tr style=\"text-align: right;\">\n",
       "      <th></th>\n",
       "      <th>ID</th>\n",
       "      <th>FICO</th>\n",
       "      <th>Business Revenue</th>\n",
       "      <th>TSR</th>\n",
       "      <th>Last 6M Avg Util</th>\n",
       "      <th>Income</th>\n",
       "      <th>Last 6M Avg Remit</th>\n",
       "      <th>Last 6M Avg Bal</th>\n",
       "      <th>Internal Revolve</th>\n",
       "      <th>Lending AR% in last 6M</th>\n",
       "      <th>...</th>\n",
       "      <th>Months in Business</th>\n",
       "      <th>preferred_spend_line</th>\n",
       "      <th>total_cards</th>\n",
       "      <th>preferred_bal_line</th>\n",
       "      <th>preavgremit1_3_all</th>\n",
       "      <th>External_rev_rate</th>\n",
       "      <th>Supplementary Cards</th>\n",
       "      <th>isChargeCust</th>\n",
       "      <th>CMV</th>\n",
       "      <th>Assigned</th>\n",
       "    </tr>\n",
       "  </thead>\n",
       "  <tbody>\n",
       "    <tr>\n",
       "      <th>0</th>\n",
       "      <td>1.0</td>\n",
       "      <td>828.235294</td>\n",
       "      <td>0.138889</td>\n",
       "      <td>321.428571</td>\n",
       "      <td>625.911006</td>\n",
       "      <td>1.818182</td>\n",
       "      <td>1.081550</td>\n",
       "      <td>198.113469</td>\n",
       "      <td>22.086661</td>\n",
       "      <td>58.632548</td>\n",
       "      <td>...</td>\n",
       "      <td>100.083403</td>\n",
       "      <td>1.000000</td>\n",
       "      <td>1.0</td>\n",
       "      <td>1.000000</td>\n",
       "      <td>1.540594</td>\n",
       "      <td>1000.00</td>\n",
       "      <td>1.0</td>\n",
       "      <td>0.0</td>\n",
       "      <td>100.104991</td>\n",
       "      <td>Low</td>\n",
       "    </tr>\n",
       "    <tr>\n",
       "      <th>1</th>\n",
       "      <td>4.0</td>\n",
       "      <td>892.941177</td>\n",
       "      <td>0.027778</td>\n",
       "      <td>35.714286</td>\n",
       "      <td>638.076431</td>\n",
       "      <td>9.090909</td>\n",
       "      <td>0.820218</td>\n",
       "      <td>197.355744</td>\n",
       "      <td>4.363431</td>\n",
       "      <td>58.632548</td>\n",
       "      <td>...</td>\n",
       "      <td>40.033361</td>\n",
       "      <td>6.666667</td>\n",
       "      <td>1.0</td>\n",
       "      <td>6.666667</td>\n",
       "      <td>1.145729</td>\n",
       "      <td>1000.00</td>\n",
       "      <td>1.0</td>\n",
       "      <td>0.0</td>\n",
       "      <td>140.862306</td>\n",
       "      <td>Low</td>\n",
       "    </tr>\n",
       "    <tr>\n",
       "      <th>2</th>\n",
       "      <td>6.0</td>\n",
       "      <td>794.117647</td>\n",
       "      <td>0.117700</td>\n",
       "      <td>178.571429</td>\n",
       "      <td>624.065797</td>\n",
       "      <td>12.727273</td>\n",
       "      <td>0.665458</td>\n",
       "      <td>197.251700</td>\n",
       "      <td>107.066619</td>\n",
       "      <td>58.632548</td>\n",
       "      <td>...</td>\n",
       "      <td>40.033361</td>\n",
       "      <td>2.000000</td>\n",
       "      <td>1.0</td>\n",
       "      <td>2.000000</td>\n",
       "      <td>1.037051</td>\n",
       "      <td>34.83</td>\n",
       "      <td>0.0</td>\n",
       "      <td>0.0</td>\n",
       "      <td>379.736661</td>\n",
       "      <td>Low</td>\n",
       "    </tr>\n",
       "    <tr>\n",
       "      <th>3</th>\n",
       "      <td>7.0</td>\n",
       "      <td>987.058823</td>\n",
       "      <td>0.027778</td>\n",
       "      <td>35.714286</td>\n",
       "      <td>611.574748</td>\n",
       "      <td>11.363636</td>\n",
       "      <td>0.970320</td>\n",
       "      <td>197.831747</td>\n",
       "      <td>22.086661</td>\n",
       "      <td>58.632548</td>\n",
       "      <td>...</td>\n",
       "      <td>40.033361</td>\n",
       "      <td>6.666667</td>\n",
       "      <td>1.0</td>\n",
       "      <td>6.000000</td>\n",
       "      <td>1.161463</td>\n",
       "      <td>1000.00</td>\n",
       "      <td>0.0</td>\n",
       "      <td>1.0</td>\n",
       "      <td>146.382100</td>\n",
       "      <td>Low</td>\n",
       "    </tr>\n",
       "    <tr>\n",
       "      <th>4</th>\n",
       "      <td>9.0</td>\n",
       "      <td>947.058823</td>\n",
       "      <td>0.027778</td>\n",
       "      <td>821.428571</td>\n",
       "      <td>648.330121</td>\n",
       "      <td>23.636364</td>\n",
       "      <td>0.782048</td>\n",
       "      <td>200.301604</td>\n",
       "      <td>22.086661</td>\n",
       "      <td>58.632548</td>\n",
       "      <td>...</td>\n",
       "      <td>20.016681</td>\n",
       "      <td>9.733333</td>\n",
       "      <td>1.0</td>\n",
       "      <td>11.000000</td>\n",
       "      <td>1.141355</td>\n",
       "      <td>1000.00</td>\n",
       "      <td>1.0</td>\n",
       "      <td>0.0</td>\n",
       "      <td>96.337349</td>\n",
       "      <td>Low</td>\n",
       "    </tr>\n",
       "  </tbody>\n",
       "</table>\n",
       "<p>5 rows × 21 columns</p>\n",
       "</div>"
      ],
      "text/plain": [
       "    ID        FICO  Business Revenue         TSR  Last 6M Avg Util     Income  \\\n",
       "0  1.0  828.235294          0.138889  321.428571        625.911006   1.818182   \n",
       "1  4.0  892.941177          0.027778   35.714286        638.076431   9.090909   \n",
       "2  6.0  794.117647          0.117700  178.571429        624.065797  12.727273   \n",
       "3  7.0  987.058823          0.027778   35.714286        611.574748  11.363636   \n",
       "4  9.0  947.058823          0.027778  821.428571        648.330121  23.636364   \n",
       "\n",
       "   Last 6M Avg Remit  Last 6M Avg Bal  Internal Revolve  \\\n",
       "0           1.081550       198.113469         22.086661   \n",
       "1           0.820218       197.355744          4.363431   \n",
       "2           0.665458       197.251700        107.066619   \n",
       "3           0.970320       197.831747         22.086661   \n",
       "4           0.782048       200.301604         22.086661   \n",
       "\n",
       "   Lending AR% in last 6M    ...     Months in Business  preferred_spend_line  \\\n",
       "0               58.632548    ...             100.083403              1.000000   \n",
       "1               58.632548    ...              40.033361              6.666667   \n",
       "2               58.632548    ...              40.033361              2.000000   \n",
       "3               58.632548    ...              40.033361              6.666667   \n",
       "4               58.632548    ...              20.016681              9.733333   \n",
       "\n",
       "   total_cards  preferred_bal_line   preavgremit1_3_all  External_rev_rate  \\\n",
       "0          1.0            1.000000             1.540594            1000.00   \n",
       "1          1.0            6.666667             1.145729            1000.00   \n",
       "2          1.0            2.000000             1.037051              34.83   \n",
       "3          1.0            6.000000             1.161463            1000.00   \n",
       "4          1.0           11.000000             1.141355            1000.00   \n",
       "\n",
       "   Supplementary Cards  isChargeCust         CMV  Assigned  \n",
       "0                  1.0           0.0  100.104991       Low  \n",
       "1                  1.0           0.0  140.862306       Low  \n",
       "2                  0.0           0.0  379.736661       Low  \n",
       "3                  0.0           1.0  146.382100       Low  \n",
       "4                  1.0           0.0   96.337349       Low  \n",
       "\n",
       "[5 rows x 21 columns]"
      ]
     },
     "execution_count": 41,
     "metadata": {},
     "output_type": "execute_result"
    }
   ],
   "source": [
    "b.head()"
   ]
  },
  {
   "cell_type": "code",
   "execution_count": 42,
   "metadata": {},
   "outputs": [],
   "source": [
    "## y contain value of variable Assigned"
   ]
  },
  {
   "cell_type": "code",
   "execution_count": 43,
   "metadata": {},
   "outputs": [],
   "source": [
    "y=b.Assigned"
   ]
  },
  {
   "cell_type": "code",
   "execution_count": 44,
   "metadata": {},
   "outputs": [],
   "source": [
    "## x contain value of all variable except Assigned"
   ]
  },
  {
   "cell_type": "code",
   "execution_count": 45,
   "metadata": {},
   "outputs": [],
   "source": [
    "x=b.drop('Assigned',axis=1)"
   ]
  },
  {
   "cell_type": "code",
   "execution_count": 46,
   "metadata": {},
   "outputs": [],
   "source": [
    "## Splitting data into train and test"
   ]
  },
  {
   "cell_type": "code",
   "execution_count": 47,
   "metadata": {},
   "outputs": [],
   "source": [
    "X_train, X_test, y_train, y_test = train_test_split(x, y, random_state = 0) "
   ]
  },
  {
   "cell_type": "code",
   "execution_count": 48,
   "metadata": {},
   "outputs": [],
   "source": [
    "##  Running Xgb "
   ]
  },
  {
   "cell_type": "code",
   "execution_count": 49,
   "metadata": {},
   "outputs": [],
   "source": [
    "import xgboost as xgb\n",
    "from sklearn.metrics import mean_squared_error\n",
    "import pandas as pd\n",
    "import numpy as np"
   ]
  },
  {
   "cell_type": "code",
   "execution_count": 50,
   "metadata": {},
   "outputs": [],
   "source": [
    "from numpy import loadtxt\n",
    "from xgboost import XGBClassifier\n",
    "from sklearn.model_selection import train_test_split\n",
    "from sklearn.metrics import accuracy_score"
   ]
  },
  {
   "cell_type": "code",
   "execution_count": 51,
   "metadata": {},
   "outputs": [
    {
     "data": {
      "text/plain": [
       "XGBClassifier(base_score=0.5, booster='gbtree', colsample_bylevel=1,\n",
       "       colsample_bynode=1, colsample_bytree=1, gamma=0, learning_rate=0.1,\n",
       "       max_delta_step=0, max_depth=3, min_child_weight=1, missing=None,\n",
       "       n_estimators=100, n_jobs=1, nthread=None,\n",
       "       objective='multi:softprob', random_state=0, reg_alpha=0,\n",
       "       reg_lambda=1, scale_pos_weight=1, seed=None, silent=None,\n",
       "       subsample=1, verbosity=1)"
      ]
     },
     "execution_count": 51,
     "metadata": {},
     "output_type": "execute_result"
    }
   ],
   "source": [
    "model = XGBClassifier()\n",
    "model.fit(X_train, y_train)"
   ]
  },
  {
   "cell_type": "code",
   "execution_count": 52,
   "metadata": {},
   "outputs": [
    {
     "name": "stdout",
     "output_type": "stream",
     "text": [
      "XGBClassifier(base_score=0.5, booster='gbtree', colsample_bylevel=1,\n",
      "       colsample_bynode=1, colsample_bytree=1, gamma=0, learning_rate=0.1,\n",
      "       max_delta_step=0, max_depth=3, min_child_weight=1, missing=None,\n",
      "       n_estimators=100, n_jobs=1, nthread=None,\n",
      "       objective='multi:softprob', random_state=0, reg_alpha=0,\n",
      "       reg_lambda=1, scale_pos_weight=1, seed=None, silent=None,\n",
      "       subsample=1, verbosity=1)\n"
     ]
    }
   ],
   "source": [
    "print(model)"
   ]
  },
  {
   "cell_type": "code",
   "execution_count": 53,
   "metadata": {},
   "outputs": [],
   "source": [
    "y_pred = model.predict(X_test)\n",
    "predictions = y_pred"
   ]
  },
  {
   "cell_type": "code",
   "execution_count": 54,
   "metadata": {},
   "outputs": [],
   "source": [
    "##  Accuracy of model"
   ]
  },
  {
   "cell_type": "code",
   "execution_count": 55,
   "metadata": {},
   "outputs": [
    {
     "name": "stdout",
     "output_type": "stream",
     "text": [
      "Accuracy: 74.48%\n"
     ]
    }
   ],
   "source": [
    "accuracy = accuracy_score(y_test, predictions)\n",
    "print(\"Accuracy: %.2f%%\" % (accuracy * 100.0))"
   ]
  },
  {
   "cell_type": "code",
   "execution_count": 56,
   "metadata": {},
   "outputs": [],
   "source": [
    "## Creating confusion matrix "
   ]
  },
  {
   "cell_type": "code",
   "execution_count": 57,
   "metadata": {},
   "outputs": [
    {
     "name": "stdout",
     "output_type": "stream",
     "text": [
      "Confusion Matrix :\n",
      "[[ 197   95  625]\n",
      " [   9 2032  959]\n",
      " [  22  459 4102]]\n",
      "              precision    recall  f1-score   support\n",
      "\n",
      "        High       0.86      0.21      0.34       917\n",
      "         Low       0.79      0.68      0.73      3000\n",
      "      Medium       0.72      0.90      0.80      4583\n",
      "\n",
      "   micro avg       0.74      0.74      0.74      8500\n",
      "   macro avg       0.79      0.60      0.62      8500\n",
      "weighted avg       0.76      0.74      0.72      8500\n",
      "\n"
     ]
    }
   ],
   "source": [
    "from sklearn.metrics import confusion_matrix \n",
    "from sklearn.metrics import accuracy_score \n",
    "from sklearn.metrics import classification_report \n",
    "actual = y_test\n",
    "predicted = y_pred \n",
    "results = confusion_matrix(actual, predicted) \n",
    "print ('Confusion Matrix :')\n",
    "print(results) \n",
    " \n",
    "print (classification_report(actual, predicted))"
   ]
  },
  {
   "cell_type": "code",
   "execution_count": null,
   "metadata": {},
   "outputs": [],
   "source": []
  }
 ],
 "metadata": {
  "kernelspec": {
   "display_name": "Python 3",
   "language": "python",
   "name": "python3"
  },
  "language_info": {
   "codemirror_mode": {
    "name": "ipython",
    "version": 3
   },
   "file_extension": ".py",
   "mimetype": "text/x-python",
   "name": "python",
   "nbconvert_exporter": "python",
   "pygments_lexer": "ipython3",
   "version": "3.7.1"
  }
 },
 "nbformat": 4,
 "nbformat_minor": 2
}
